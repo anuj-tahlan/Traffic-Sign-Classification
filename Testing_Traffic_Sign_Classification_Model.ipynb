{
  "nbformat": 4,
  "nbformat_minor": 0,
  "metadata": {
    "colab": {
      "name": "Testing_Traffic_Sign_Classification_Model.ipynb",
      "provenance": []
    },
    "kernelspec": {
      "name": "python3",
      "display_name": "Python 3"
    },
    "language_info": {
      "name": "python"
    }
  },
  "cells": [
    {
      "cell_type": "code",
      "source": [
        "import numpy as np \n",
        "import pandas as pd \n",
        "import matplotlib.pyplot as plt\n",
        "import cv2\n",
        "import tensorflow as tf\n",
        "import zipfile\n",
        "from PIL import Image\n",
        "import os\n",
        "from sklearn.model_selection import train_test_split\n",
        "from tensorflow.keras.utils import to_categorical\n",
        "from keras.models import Sequential, load_model\n",
        "from keras.layers import Conv2D, MaxPool2D, Dense, Flatten, Dropout"
      ],
      "metadata": {
        "id": "kVmH-GDh1buK"
      },
      "execution_count": 1,
      "outputs": []
    },
    {
      "cell_type": "code",
      "source": [
        "path = '/content/Testing_Traffic_Sign_Classification'\n",
        "isdir = os.path.isdir(path) \n",
        "if not isdir: #If directory is not present \n",
        "  os.mkdir('/content/Testing_Traffic_Sign_Classification')"
      ],
      "metadata": {
        "id": "LxaPOq857AqU"
      },
      "execution_count": 2,
      "outputs": []
    },
    {
      "cell_type": "code",
      "source": [
        "cd '/content/Testing_Traffic_Sign_Classification'\n"
      ],
      "metadata": {
        "colab": {
          "base_uri": "https://localhost:8080/"
        },
        "id": "bs_cqV3G7dFs",
        "outputId": "bd09d0f0-a2da-4a97-e1ba-8260a5558c04"
      },
      "execution_count": 3,
      "outputs": [
        {
          "output_type": "stream",
          "name": "stdout",
          "text": [
            "/content/Testing_Traffic_Sign_Classification\n"
          ]
        }
      ]
    },
    {
      "cell_type": "code",
      "source": [
        "\n",
        "#Get the trained model from the source code of this project on Github\n",
        "!wget https://github.com/anuj-tahlan/Traffic-Sign-Classification/blob/492c1adb458642f4e2fe57c7532ae22e1c69ee92/TSC.h5"
      ],
      "metadata": {
        "colab": {
          "base_uri": "https://localhost:8080/"
        },
        "id": "fKqg9tdG6PPf",
        "outputId": "440665fc-531a-454b-b1f2-dbb9706fc247"
      },
      "execution_count": 4,
      "outputs": [
        {
          "output_type": "stream",
          "name": "stdout",
          "text": [
            "--2022-07-23 02:24:23--  https://github.com/anuj-tahlan/Traffic-Sign-Classification/blob/492c1adb458642f4e2fe57c7532ae22e1c69ee92/TSC.h5\n",
            "Resolving github.com (github.com)... 140.82.112.3\n",
            "Connecting to github.com (github.com)|140.82.112.3|:443... connected.\n",
            "HTTP request sent, awaiting response... 200 OK\n",
            "Length: unspecified [text/html]\n",
            "Saving to: ‘TSC.h5’\n",
            "\n",
            "\rTSC.h5                  [<=>                 ]       0  --.-KB/s               \rTSC.h5                  [ <=>                ] 138.32K  --.-KB/s    in 0.04s   \n",
            "\n",
            "2022-07-23 02:24:23 (3.73 MB/s) - ‘TSC.h5’ saved [141642]\n",
            "\n"
          ]
        }
      ]
    },
    {
      "cell_type": "code",
      "source": [
        "!curl -LOC - https://www.dropbox.com/s/ramoqqq2q35gbct/TestingImages.zip"
      ],
      "metadata": {
        "colab": {
          "base_uri": "https://localhost:8080/"
        },
        "id": "wz2Ai5qkJf2s",
        "outputId": "22ec57e2-264e-4dc6-d144-e0aa475c1dcd"
      },
      "execution_count": 5,
      "outputs": [
        {
          "output_type": "stream",
          "name": "stdout",
          "text": [
            "  % Total    % Received % Xferd  Average Speed   Time    Time     Time  Current\n",
            "                                 Dload  Upload   Total   Spent    Left  Speed\n",
            "100   142    0   142    0     0    412      0 --:--:-- --:--:-- --:--:--   412\n",
            "100   340  100   340    0     0    560      0 --:--:-- --:--:-- --:--:--     0\n",
            "100   534    0   534    0     0    638      0 --:--:-- --:--:-- --:--:--   638\n",
            "100  119k  100  119k    0     0   119k      0 --:--:-- --:--:-- --:--:--  119k\n"
          ]
        }
      ]
    },
    {
      "cell_type": "code",
      "source": [
        "#Either Download Trained Model or download file from Github and upload to Google Colab , in that case do not run this line\n",
        "# Or run below line of code to download trained model from my source(dropbox)\n",
        "#!curl -LOC - https://www.dropbox.com/s/3avgvrulenel1rp/TSC.h5"
      ],
      "metadata": {
        "colab": {
          "base_uri": "https://localhost:8080/"
        },
        "id": "DM_OTMpQMicf",
        "outputId": "3a6653ea-d966-4a73-c095-c5dad428edff"
      },
      "execution_count": 10,
      "outputs": [
        {
          "output_type": "stream",
          "name": "stdout",
          "text": [
            "  % Total    % Received % Xferd  Average Speed   Time    Time     Time  Current\n",
            "                                 Dload  Upload   Total   Spent    Left  Speed\n",
            "100   131    0   131    0     0    459      0 --:--:-- --:--:-- --:--:--   458\n",
            "100   340  100   340    0     0    571      0 --:--:-- --:--:-- --:--:--   571\n",
            "100 2901k  100 2901k    0     0  2418k      0  0:00:01  0:00:01 --:--:-- 2418k\n"
          ]
        }
      ]
    },
    {
      "cell_type": "code",
      "source": [
        "import zipfile\n",
        "unzip = zipfile.ZipFile('TestingImages.zip')\n",
        "unzip.extractall('TestingImages')"
      ],
      "metadata": {
        "id": "hSuMQaD84b07"
      },
      "execution_count": 7,
      "outputs": []
    },
    {
      "cell_type": "code",
      "source": [
        "\n",
        "# %%time\n",
        "# to_unpack = [\n",
        "#     (\"TestingImages.zip\", '/content/Testing_Traffic_Sign_Classification'),\n",
        "# ]\n",
        " \n",
        "# for file, directory in to_unpack:\n",
        "#     print(\"Unzipping {} to {}...\".format(file, directory))\n",
        "#     with zipfile.ZipFile(file,\"r\") as zip_ref:\n",
        "#         zip_ref.extractall(directory)"
      ],
      "metadata": {
        "colab": {
          "base_uri": "https://localhost:8080/"
        },
        "id": "fJeTXZB0J_vb",
        "outputId": "c47a2662-c2fb-4b77-f28d-a550b0a28b80"
      },
      "execution_count": 6,
      "outputs": [
        {
          "output_type": "stream",
          "name": "stdout",
          "text": [
            "Unzipping TestingImages.zip to /content/Testing_Traffic_Sign_Classification...\n",
            "CPU times: user 6.25 ms, sys: 1.17 ms, total: 7.42 ms\n",
            "Wall time: 9.68 ms\n"
          ]
        }
      ]
    },
    {
      "cell_type": "code",
      "source": [
        "#Load the model\n",
        "from keras.models import load_model\n",
        "model = load_model('/content/Testing_Traffic_Sign_Classification/TSC.h5')"
      ],
      "metadata": {
        "id": "KoCBVWEiKQ5j"
      },
      "execution_count": 11,
      "outputs": []
    },
    {
      "cell_type": "code",
      "source": [
        "# Classes of trafic signs\n",
        "classes = { 0:'Speed limit (20km/h)',\n",
        "            1:'Speed limit (30km/h)', \n",
        "            2:'Speed limit (50km/h)', \n",
        "            3:'Speed limit (60km/h)', \n",
        "            4:'Speed limit (70km/h)', \n",
        "            5:'Speed limit (80km/h)', \n",
        "            6:'End of speed limit (80km/h)', \n",
        "            7:'Speed limit (100km/h)', \n",
        "            8:'Speed limit (120km/h)', \n",
        "            9:'No passing', \n",
        "            10:'No passing veh over 3.5 tons', \n",
        "            11:'Right-of-way at intersection', \n",
        "            12:'Priority road', \n",
        "            13:'Yield', \n",
        "            14:'Stop', \n",
        "            15:'No vehicles', \n",
        "            16:'Veh > 3.5 tons prohibited', \n",
        "            17:'No entry', \n",
        "            18:'General caution', \n",
        "            19:'Dangerous curve left', \n",
        "            20:'Dangerous curve right', \n",
        "            21:'Double curve', \n",
        "            22:'Bumpy road', \n",
        "            23:'Slippery road', \n",
        "            24:'Road narrows on the right', \n",
        "            25:'Road work', \n",
        "            26:'Traffic signals', \n",
        "            27:'Pedestrians', \n",
        "            28:'Children crossing', \n",
        "            29:'Bicycles crossing', \n",
        "            30:'Beware of ice/snow',\n",
        "            31:'Wild animals crossing', \n",
        "            32:'End speed + passing limits', \n",
        "            33:'Turn right ahead', \n",
        "            34:'Turn left ahead', \n",
        "            35:'Ahead only', \n",
        "            36:'Go straight or right', \n",
        "            37:'Go straight or left', \n",
        "            38:'Keep right', \n",
        "            39:'Keep left', \n",
        "            40:'Roundabout mandatory', \n",
        "            41:'End of no passing', \n",
        "            42:'End no passing veh > 3.5 tons' }"
      ],
      "metadata": {
        "id": "r78lWk0GKV7e"
      },
      "execution_count": 12,
      "outputs": []
    },
    {
      "cell_type": "code",
      "source": [
        "from PIL import Image\n",
        "import numpy as np\n",
        "import matplotlib.pyplot as plt\n",
        "def test_on_img(img):\n",
        "    data=[]\n",
        "    image = Image.open(img)\n",
        "    image = image.resize((30,30))\n",
        "    data.append(np.array(image))\n",
        "    X_test=np.array(data)\n",
        "    Y_pred = np.argmax(model.predict(X_test), axis=-1)\n",
        "    return image,Y_pred"
      ],
      "metadata": {
        "id": "9YBklBY3KZtl"
      },
      "execution_count": 13,
      "outputs": []
    },
    {
      "cell_type": "code",
      "source": [
        "plot,prediction = test_on_img(r'/content/Testing_Traffic_Sign_Classification/TestingImages/1.jpg')\n",
        "s = [str(i) for i in prediction] \n",
        "a = int(\"\".join(s)) \n",
        "print(\"Predicted traffic sign is: \", classes[a])\n",
        "plt.imshow(plot)\n",
        "plt.show()"
      ],
      "metadata": {
        "colab": {
          "base_uri": "https://localhost:8080/",
          "height": 284
        },
        "id": "2w1nXOg4NF_T",
        "outputId": "3a92f034-4fd0-4e97-f35f-d35bf677ecde"
      },
      "execution_count": 14,
      "outputs": [
        {
          "output_type": "stream",
          "name": "stdout",
          "text": [
            "Predicted traffic sign is:  Speed limit (70km/h)\n"
          ]
        },
        {
          "output_type": "display_data",
          "data": {
            "text/plain": [
              "<Figure size 432x288 with 1 Axes>"
            ],
            "image/png": "[encoded data removed]"
          },
          "metadata": {
            "needs_background": "light"
          }
        }
      ]
    }
  ]
}